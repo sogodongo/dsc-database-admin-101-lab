{
 "cells": [
  {
   "cell_type": "markdown",
   "metadata": {},
   "source": [
    "# Database Admin 101 - Lab\n",
    "\n",
    "## Introduction \n",
    "\n",
    "In this lab, you'll go through the process of designing and creating a database. From there, you'll begin to populate this table with mock data provided to you.\n",
    "\n",
    "## Objectives\n",
    "\n",
    "You will be able to:\n",
    "\n",
    "* Use knowledge of the structure of databases to create a database and populate it"
   ]
  },
  {
   "cell_type": "markdown",
   "metadata": {},
   "source": [
    "## The Scenario\n",
    "\n",
    "You are looking to design a database for a school that will house various information from student grades to contact information, class roster lists and attendance. First, think of how you would design such a database. What tables would you include? What columns would each table have? What would be the primary means to join said tables?"
   ]
  },
  {
   "cell_type": "markdown",
   "metadata": {},
   "source": [
    "## Creating the Database\n",
    "\n",
    "Now that you've put a little thought into how you might design your database, it's time to go ahead and create it! Start by import the necessary packages. Then, create a database called **school.sqlite**."
   ]
  },
  {
   "cell_type": "code",
   "execution_count": 1,
   "metadata": {},
   "outputs": [],
   "source": [
    "import sqlite3"
   ]
  },
  {
   "cell_type": "code",
   "execution_count": 2,
   "metadata": {},
   "outputs": [],
   "source": [
    "conn = sqlite3.connect('school.sqlite')\n"
   ]
  },
  {
   "cell_type": "markdown",
   "metadata": {},
   "source": [
    "## Create a Table for Contact Information\n",
    "\n",
    "Create a table called contactInfo to house contact information for both students and staff. Be sure to include columns for first name, last name, role (student/staff), telephone number, street, city, state, and zipcode. Be sure to also create a primary key for the table. "
   ]
  },
  {
   "cell_type": "code",
   "execution_count": 3,
   "metadata": {},
   "outputs": [
    {
     "data": {
      "text/plain": [
       "<sqlite3.Cursor at 0x7f3621e912c0>"
      ]
     },
     "execution_count": 3,
     "metadata": {},
     "output_type": "execute_result"
    }
   ],
   "source": [
    "# Creating a cursor object\n",
    "cursor = conn.cursor()\n",
    "\n",
    "# Creating the contactInfo table\n",
    "cursor.execute('''\n",
    "    CREATE TABLE contactInfo (\n",
    "        id INTEGER PRIMARY KEY,\n",
    "        firstName TEXT,\n",
    "        lastName TEXT,\n",
    "        role TEXT,\n",
    "        telephone TEXT,\n",
    "        street TEXT,\n",
    "        city TEXT,\n",
    "        state TEXT,\n",
    "        zipcode TEXT\n",
    "    )\n",
    "''')\n"
   ]
  },
  {
   "cell_type": "markdown",
   "metadata": {},
   "source": [
    "## Populate the Table\n",
    "\n",
    "Below, code is provided for you in order to load a list of dictionaries. Briefly examine the list. Each dictionary in the list will serve as an entry for your contact info table. Once you've briefly investigated the structure of this data, write a for loop to iterate through the list and create an entry in your table for each person's contact info."
   ]
  },
  {
   "cell_type": "code",
   "execution_count": 4,
   "metadata": {},
   "outputs": [],
   "source": [
    "# Load the list of dictionaries; just run this cell\n",
    "import pickle\n",
    "\n",
    "with open('contact_list.pickle', 'rb') as f:\n",
    "    contacts = pickle.load(f)"
   ]
  },
  {
   "cell_type": "code",
   "execution_count": 7,
   "metadata": {},
   "outputs": [
    {
     "name": "stdout",
     "output_type": "stream",
     "text": [
      "{'firstName': 'Christine', 'lastName': 'Holden', 'role': 'staff', 'telephone ': 2035687697, 'street': '1672 Whitman Court', 'city': 'Stamford', 'state': 'CT', 'zipcode ': '06995'}\n",
      "{'firstName': 'Christopher', 'lastName': 'Warren', 'role': 'student', 'telephone ': 2175150957, 'street': '1935 University Hill Road', 'city': 'Champaign', 'state': 'IL', 'zipcode ': '61938'}\n",
      "{'firstName': 'Linda', 'lastName': 'Jacobson', 'role': 'staff', 'telephone ': 4049446441, 'street': '479 Musgrave Street', 'city': 'Atlanta', 'state': 'GA', 'zipcode ': '30303'}\n",
      "{'firstName': 'Andrew', 'lastName': 'Stepp', 'role': 'student', 'telephone ': 7866419252, 'street': '2981 Lamberts Branch Road', 'city': 'Hialeah', 'state': 'Fl', 'zipcode ': '33012'}\n",
      "{'firstName': 'Jane', 'lastName': 'Evans', 'role': 'student', 'telephone ': 3259909290, 'street': '1461 Briarhill Lane', 'city': 'Abilene', 'state': 'TX', 'zipcode ': '79602'}\n",
      "{'firstName': 'Jane', 'lastName': 'Evans', 'role': 'student', 'telephone ': 3259909290, 'street': '1461 Briarhill Lane', 'city': 'Abilene', 'state': 'TX', 'zipcode ': '79602'}\n",
      "{'firstName': 'Mary', 'lastName': 'Raines', 'role': 'student', 'telephone ': 9075772295, 'street': '3975 Jerry Toth Drive', 'city': 'Ninilchik', 'state': 'AK', 'zipcode ': '99639'}\n",
      "{'firstName': 'Ed', 'lastName': 'Lyman', 'role': 'student', 'telephone ': 5179695576, 'street': '3478 Be Sreet', 'city': 'Lansing', 'state': 'MI', 'zipcode ': '48933'}\n"
     ]
    }
   ],
   "source": [
    "for contact in contacts:\n",
    "    print(contact)\n"
   ]
  },
  {
   "cell_type": "code",
   "execution_count": 9,
   "metadata": {},
   "outputs": [],
   "source": [
    "# Iterate over the contact list and populate the contactInfo table here\n",
    "for contact in contacts:\n",
    "    # Extract the values from the dictionary\n",
    "    first_name = contact['firstName']\n",
    "    last_name = contact['lastName']\n",
    "    role = contact['role']\n",
    "    telephone = contact['telephone ']\n",
    "    street = contact['street']\n",
    "    city = contact['city']\n",
    "    state = contact['state']\n",
    "    zipcode = contact['zipcode ']\n",
    "    \n",
    "    # Insert the values into the contactInfo table\n",
    "    cursor.execute('''\n",
    "        INSERT INTO contactInfo (firstName, lastName, role, telephone, street, city, state, zipcode)\n",
    "        VALUES (?, ?, ?, ?, ?, ?, ?, ?)\n",
    "    ''', (first_name, last_name, role, telephone, street, city, state, zipcode))"
   ]
  },
  {
   "cell_type": "markdown",
   "metadata": {},
   "source": [
    "**Query the Table to Ensure it is populated**"
   ]
  },
  {
   "cell_type": "code",
   "execution_count": 10,
   "metadata": {},
   "outputs": [
    {
     "name": "stdout",
     "output_type": "stream",
     "text": [
      "(1, 'Christine', 'Holden', 'staff', '2035687697', '1672 Whitman Court', 'Stamford', 'CT', '06995')\n",
      "(2, 'Christopher', 'Warren', 'student', '2175150957', '1935 University Hill Road', 'Champaign', 'IL', '61938')\n",
      "(3, 'Linda', 'Jacobson', 'staff', '4049446441', '479 Musgrave Street', 'Atlanta', 'GA', '30303')\n",
      "(4, 'Andrew', 'Stepp', 'student', '7866419252', '2981 Lamberts Branch Road', 'Hialeah', 'Fl', '33012')\n",
      "(5, 'Jane', 'Evans', 'student', '3259909290', '1461 Briarhill Lane', 'Abilene', 'TX', '79602')\n",
      "(6, 'Jane', 'Evans', 'student', '3259909290', '1461 Briarhill Lane', 'Abilene', 'TX', '79602')\n",
      "(7, 'Mary', 'Raines', 'student', '9075772295', '3975 Jerry Toth Drive', 'Ninilchik', 'AK', '99639')\n",
      "(8, 'Ed', 'Lyman', 'student', '5179695576', '3478 Be Sreet', 'Lansing', 'MI', '48933')\n"
     ]
    }
   ],
   "source": [
    "cursor = conn.cursor()\n",
    "\n",
    "# Executing a SELECT statement to retrieve all rows from the contactInfo table\n",
    "cursor.execute(\"SELECT * FROM contactInfo\")\n",
    "\n",
    "# Fetching all rows returned by the SELECT statement\n",
    "rows = cursor.fetchall()\n",
    "\n",
    "# Display the retrieved data\n",
    "for row in rows:\n",
    "    print(row)"
   ]
  },
  {
   "cell_type": "markdown",
   "metadata": {},
   "source": [
    "## Commit Your Changes to the Database\n",
    "\n",
    "Persist your changes by committing them to the database."
   ]
  },
  {
   "cell_type": "code",
   "execution_count": 11,
   "metadata": {},
   "outputs": [],
   "source": [
    "conn.commit()"
   ]
  },
  {
   "cell_type": "markdown",
   "metadata": {},
   "source": [
    "## Create a Table for Student Grades\n",
    "\n",
    "Create a new table in the database called \"grades\". In the table, include the following fields: userId, courseId, grade.\n",
    "\n",
    "** This problem is a bit more tricky and will require a dual key. (A nuance you have yet to see.)\n",
    "Here's how to do that:\n",
    "\n",
    "```SQL\n",
    "CREATE TABLE table_name(\n",
    "   column_1 INTEGER NOT NULL,\n",
    "   column_2 INTEGER NOT NULL,\n",
    "   ...\n",
    "   PRIMARY KEY(column_1,column_2,...)\n",
    ");\n",
    "```"
   ]
  },
  {
   "cell_type": "code",
   "execution_count": 12,
   "metadata": {},
   "outputs": [
    {
     "data": {
      "text/plain": [
       "<sqlite3.Cursor at 0x7f360217b3c0>"
      ]
     },
     "execution_count": 12,
     "metadata": {},
     "output_type": "execute_result"
    }
   ],
   "source": [
    "cursor.execute('''CREATE TABLE grades (\n",
    "                    userId INTEGER NOT NULL,\n",
    "                    courseId INTEGER NOT NULL,\n",
    "                    grade INTEGER,\n",
    "                    PRIMARY KEY (userId, courseId)\n",
    "                )''')\n"
   ]
  },
  {
   "cell_type": "markdown",
   "metadata": {},
   "source": [
    "## Remove Duplicate Entries\n",
    "\n",
    "An analyst just realized that there is a duplicate entry in the contactInfo table! Find and remove it."
   ]
  },
  {
   "cell_type": "code",
   "execution_count": 13,
   "metadata": {},
   "outputs": [
    {
     "name": "stdout",
     "output_type": "stream",
     "text": [
      "Duplicate Entry: ('Jane', 'Evans', 'student', '3259909290', '1461 Briarhill Lane', 'Abilene', 'TX', '79602', 2)\n"
     ]
    }
   ],
   "source": [
    "# Find the duplicate entry\n",
    "# Executing a SELECT query to find the duplicate entry\n",
    "cursor.execute('''SELECT firstName, lastName, role, telephone, street, city, state, zipcode, COUNT(*)\n",
    "                  FROM contactInfo\n",
    "                  GROUP BY firstName, lastName, role, telephone, street, city, state, zipcode\n",
    "                  HAVING COUNT(*) > 1''')\n",
    "\n",
    "# Fetching the duplicate entry\n",
    "duplicate_entry = cursor.fetchone()\n",
    "\n",
    "# Duplicate entry\n",
    "print(\"Duplicate Entry:\", duplicate_entry)"
   ]
  },
  {
   "cell_type": "code",
   "execution_count": 17,
   "metadata": {},
   "outputs": [
    {
     "data": {
      "text/plain": [
       "<sqlite3.Cursor at 0x7f3602179340>"
      ]
     },
     "execution_count": 17,
     "metadata": {},
     "output_type": "execute_result"
    }
   ],
   "source": [
    "# Delete the duplicate entry\n",
    "\n",
    "\n",
    "# Execute a DELETE query to remove the duplicate entry\n",
    "cursor.execute('''DELETE FROM contactInfo\n",
    "                      WHERE firstName = ? AND lastName = ? AND role = ? AND telephone = ? AND\n",
    "                            street = ? AND city = ? AND state = ?''',\n",
    "                   duplicate_entry[:7])  # Remove the last element (zipcode) from the duplicate entry\n",
    "\n",
    "    "
   ]
  },
  {
   "cell_type": "code",
   "execution_count": 18,
   "metadata": {},
   "outputs": [
    {
     "name": "stdout",
     "output_type": "stream",
     "text": [
      "Duplicate Entry: None\n"
     ]
    }
   ],
   "source": [
    "# Check that the duplicate entry was removed\n",
    "# Executing a SELECT query to find the duplicate entry\n",
    "cursor.execute('''SELECT firstName, lastName, role, telephone, street, city, state, zipcode, COUNT(*)\n",
    "                  FROM contactInfo\n",
    "                  GROUP BY firstName, lastName, role, telephone, street, city, state, zipcode\n",
    "                  HAVING COUNT(*) > 1''')\n",
    "\n",
    "# Fetching the duplicate entry\n",
    "duplicate_entry = cursor.fetchone()\n",
    "\n",
    "# Duplicate entry\n",
    "print(\"Duplicate Entry:\", duplicate_entry)"
   ]
  },
  {
   "cell_type": "markdown",
   "metadata": {},
   "source": [
    "## Updating an Address\n",
    "\n",
    "Ed Lyman just moved to `2910 Simpson Avenue York, PA 17403`. Update his address accordingly."
   ]
  },
  {
   "cell_type": "code",
   "execution_count": 19,
   "metadata": {},
   "outputs": [
    {
     "name": "stdout",
     "output_type": "stream",
     "text": [
      "Address updated successfully.\n"
     ]
    }
   ],
   "source": [
    "# Update Ed's address\n",
    "\n",
    "# Execute an UPDATE query to update Ed Lyman's address\n",
    "cursor.execute('''UPDATE contactInfo\n",
    "                  SET street = ?, city = ?, state = ?, zipcode = ?\n",
    "                  WHERE firstName = 'Ed' AND lastName = 'Lyman' AND role = 'student' ''',\n",
    "               ('2910 Simpson Avenue', 'York', 'PA', '17403'))\n",
    "\n",
    "# Commit the changes to the database\n",
    "conn.commit()\n",
    "print(\"Address updated successfully.\")\n",
    "\n"
   ]
  },
  {
   "cell_type": "code",
   "execution_count": 21,
   "metadata": {},
   "outputs": [
    {
     "name": "stdout",
     "output_type": "stream",
     "text": [
      "Updated address:\n",
      "(8, 'Ed', 'Lyman', 'student', '5179695576', '2910 Simpson Avenue', 'York', 'PA', '17403')\n"
     ]
    }
   ],
   "source": [
    "# Query the database to ensure the change was made\n",
    "\n",
    "cursor.execute('''SELECT * FROM contactInfo\n",
    "                  WHERE firstName = 'Ed' AND lastName = 'Lyman' AND role = 'student' ''')\n",
    "\n",
    "result = cursor.fetchall()\n",
    "if result:\n",
    "    print(\"Updated address:\")\n",
    "    for row in result:\n",
    "        print(row)\n",
    "else:\n",
    "    print(\"No records found for Ed Lyman.\")"
   ]
  },
  {
   "cell_type": "markdown",
   "metadata": {},
   "source": [
    "## Commit Your Changes to the Database\n",
    "\n",
    "Once again, persist your changes by committing them to the database."
   ]
  },
  {
   "cell_type": "code",
   "execution_count": 22,
   "metadata": {},
   "outputs": [],
   "source": [
    "cursor.close()\n",
    "conn.close()"
   ]
  },
  {
   "cell_type": "markdown",
   "metadata": {},
   "source": [
    "## Summary\n",
    "\n",
    "While there's certainly more to do with setting up and managing this database, you got a taste for creating, populating, and maintaining databases! Feel free to continue fleshing out this exercise for more practice. "
   ]
  }
 ],
 "metadata": {
  "kernelspec": {
   "display_name": "saturn (Python 3)",
   "language": "python",
   "name": "python3"
  },
  "language_info": {
   "codemirror_mode": {
    "name": "ipython",
    "version": 3
   },
   "file_extension": ".py",
   "mimetype": "text/x-python",
   "name": "python",
   "nbconvert_exporter": "python",
   "pygments_lexer": "ipython3",
   "version": "3.10.6"
  },
  "toc": {
   "base_numbering": 1,
   "nav_menu": {},
   "number_sections": true,
   "sideBar": true,
   "skip_h1_title": false,
   "title_cell": "Table of Contents",
   "title_sidebar": "Contents",
   "toc_cell": false,
   "toc_position": {},
   "toc_section_display": true,
   "toc_window_display": false
  }
 },
 "nbformat": 4,
 "nbformat_minor": 2
}
